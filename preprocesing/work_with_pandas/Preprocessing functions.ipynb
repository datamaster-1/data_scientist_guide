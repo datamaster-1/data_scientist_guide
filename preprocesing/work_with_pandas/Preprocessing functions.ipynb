{
 "cells": [
  {
   "cell_type": "markdown",
   "metadata": {},
   "source": [
    "# Preprocessing functions\n",
    "## In this notebook there are somo useful funcions to work with datasets with pandas making transformation over the dataset and preprocessing some columns or rows to work with."
   ]
  },
  {
   "cell_type": "code",
   "execution_count": 1,
   "metadata": {},
   "outputs": [],
   "source": [
    "import pandas as pd\n",
    "import numpy as np"
   ]
  },
  {
   "cell_type": "markdown",
   "metadata": {},
   "source": [
    "Loading example data sets"
   ]
  },
  {
   "cell_type": "code",
   "execution_count": 9,
   "metadata": {},
   "outputs": [],
   "source": [
    "df_cities = pd.read_csv('../../datasets/Uk_cities.csv')"
   ]
  },
  {
   "cell_type": "markdown",
   "metadata": {},
   "source": [
    "### Apply funcions"
   ]
  },
  {
   "cell_type": "code",
   "execution_count": null,
   "metadata": {},
   "outputs": [],
   "source": [
    "df_name.apply(np.sqrt)\n",
    "df_name.apply(np.sum, axis=0)\n",
    "df_name.apply(lambda x: [1, 2], axis=1)\n",
    "df_name.apply(lambda x: pd.Series([1, 2], index=['column1', 'column2']), axis=1)\n",
    "df_name.apply(lambda x: [1, 2], axis=1, result_type='broadcast')\n",
    "df_name.apply(name_fun, argument1= 0, argument2=5)\n",
    "#arguments could be by position or specific\n",
    "df.applymap(lambda x: len(str(x)))\n",
    "#Apply a function to a Dataframe elementwise"
   ]
  },
  {
   "cell_type": "code",
   "execution_count": null,
   "metadata": {},
   "outputs": [],
   "source": [
    "df = df.apply(lambda x: funcion(x) if(np.all(pd.notnull(x[0]))) else x, axis = 1)\n",
    "#apply a funcion over a dataframe if the values is not null"
   ]
  },
  {
   "cell_type": "markdown",
   "metadata": {},
   "source": [
    "### Apply functions over text type columns"
   ]
  },
  {
   "cell_type": "code",
   "execution_count": null,
   "metadata": {},
   "outputs": [],
   "source": [
    "df_name['column1'].str.lower()\n",
    "# conevert all strings in column1 to lower case \n",
    "df_name['column1'].str.upper()\n",
    "#conevert all strings in column1 to upper case \n",
    "df_name['column1'].str.capitalize()\n",
    "#conevert all strings in column1 to capitalize\n",
    "df_name['column1'].str.len()\n",
    "#diplays len of all string in column1\n",
    "df_name['column1'].str.split(' ')\n",
    "# divide all strings with a caracter, in this case with a empty space \n",
    "df_name['column1'].str[:5]\n",
    "# select the first 5 caracters of a string\n",
    "df_name['column1'].str[-5:]\n",
    "# select the last 5 caracters of a string\n",
    "df_name['column1'].str.replace('strng1','new_string1')\n",
    "#remplace strings\n",
    "df_name['column1'].str.findall('ara')\n",
    "#find  in all string the secuence of ccaracter 'ara'\n",
    "df_name['column1']str.startswith('b')\n",
    "df_name['column1']str.endswith('a')\n",
    "df_name['column1'].str.contains('or')\n",
    "#displays true in all strings that contain 'or'\n",
    "df_name['column1'].str.count('a')\n",
    "#count all elements a in all strings\n",
    "df_name['column1'].str.extract('([0-9]+)', expand=False)\n",
    "df_name['column1'].str.extractall(r\"[ab](\\d)\")\n",
    "# extract all alfanumeric alements \n",
    "df_name['column1'].str.replace('@[^\\s]+','')\n",
    "df_name['column1'].str.zfill(3)\n",
    "# add 0 equal to 3 in all strings\n",
    "df_name['column1'].str.wrap(12)\n",
    "#Wrap long strings to be formatted in paragraphs, max lenth 12\n",
    "df_name['column1'].str.title\n",
    "#convert a string to title\n",
    "df_name['column1'].str.swapcase\n",
    "#convert a string to swapcase\n",
    "df_name['column1'].str.strip()\n",
    "#delete empty spaces\n",
    "df_name['column1'].str.strip('\\n\\f.!?')\n",
    "#delete empty spaces and salected caracters\n",
    "df_name['column1'].str.split()\n",
    "#transform a string to list \n",
    "df_name['column1'].str.split(pat = \"/\")\n",
    "#transform a string to list where /\n",
    "df_name['column1'].str.repeat(repeats=2)\n",
    "df_name['column1'].str.isupper()\n",
    "df_name['column1'].str.istitle()\n",
    "df_name['column1'].str.isspace()\n",
    "df_name['column1'].str.isnumeric()\n",
    "df_name['column1'].str.islower()\n",
    "df_name['column1'].str.isdigit()\n",
    "df_name['column1'].str.isdecimal()\n",
    "df_name['column1'].str.isalpha()\n",
    "df_name['column1'].str.isnum()\n",
    "df_name['column1'].str.index()\n",
    "#Return lowest indexes in each strings\n",
    "df_name['column1'].str.get(1)\n",
    "#get first elemnt to a string\n",
    "#more information in\n",
    "r'https://pandas.pydata.org/docs/search.html?q=str'"
   ]
  },
  {
   "cell_type": "markdown",
   "metadata": {},
   "source": [
    "example: when you have a column with string values like cities but there are a specific city wrote it in diferents ways like: 'city London', 'City London', 'London', 'City Of London' etc."
   ]
  },
  {
   "cell_type": "code",
   "execution_count": 13,
   "metadata": {},
   "outputs": [
    {
     "data": {
      "text/html": [
       "<div>\n",
       "<style scoped>\n",
       "    .dataframe tbody tr th:only-of-type {\n",
       "        vertical-align: middle;\n",
       "    }\n",
       "\n",
       "    .dataframe tbody tr th {\n",
       "        vertical-align: top;\n",
       "    }\n",
       "\n",
       "    .dataframe thead th {\n",
       "        text-align: right;\n",
       "    }\n",
       "</style>\n",
       "<table border=\"1\" class=\"dataframe\">\n",
       "  <thead>\n",
       "    <tr style=\"text-align: right;\">\n",
       "      <th></th>\n",
       "      <th>city</th>\n",
       "      <th>salary_offered</th>\n",
       "    </tr>\n",
       "  </thead>\n",
       "  <tbody>\n",
       "    <tr>\n",
       "      <th>724</th>\n",
       "      <td>City Of London</td>\n",
       "      <td>£38,000 - £42,000 per annum</td>\n",
       "    </tr>\n",
       "    <tr>\n",
       "      <th>656</th>\n",
       "      <td>Bradford</td>\n",
       "      <td>£18,000 per annum, inc benefits</td>\n",
       "    </tr>\n",
       "    <tr>\n",
       "      <th>569</th>\n",
       "      <td>Edinburgh</td>\n",
       "      <td>£32,000 - £42,000 per annum, negotiable, inc ...</td>\n",
       "    </tr>\n",
       "    <tr>\n",
       "      <th>978</th>\n",
       "      <td>London</td>\n",
       "      <td>Competitive salary</td>\n",
       "    </tr>\n",
       "    <tr>\n",
       "      <th>266</th>\n",
       "      <td>London Heathrow Airport</td>\n",
       "      <td>£9.00 - £10.00 per hour</td>\n",
       "    </tr>\n",
       "  </tbody>\n",
       "</table>\n",
       "</div>"
      ],
      "text/plain": [
       "                        city  \\\n",
       "724           City Of London   \n",
       "656                 Bradford   \n",
       "569                Edinburgh   \n",
       "978                   London   \n",
       "266  London Heathrow Airport   \n",
       "\n",
       "                                        salary_offered  \n",
       "724                       £38,000 - £42,000 per annum   \n",
       "656                   £18,000 per annum, inc benefits   \n",
       "569   £32,000 - £42,000 per annum, negotiable, inc ...  \n",
       "978                                Competitive salary   \n",
       "266                           £9.00 - £10.00 per hour   "
      ]
     },
     "execution_count": 13,
     "metadata": {},
     "output_type": "execute_result"
    }
   ],
   "source": [
    "df_cities.sample(5)"
   ]
  },
  {
   "cell_type": "code",
   "execution_count": 14,
   "metadata": {},
   "outputs": [],
   "source": [
    "df_cities['city'] = df_cities['city'].replace(to_replace=r'([a-zA-Z]*\\s)*London', value='London', regex=True)"
   ]
  },
  {
   "cell_type": "code",
   "execution_count": 20,
   "metadata": {},
   "outputs": [
    {
     "data": {
      "text/html": [
       "<div>\n",
       "<style scoped>\n",
       "    .dataframe tbody tr th:only-of-type {\n",
       "        vertical-align: middle;\n",
       "    }\n",
       "\n",
       "    .dataframe tbody tr th {\n",
       "        vertical-align: top;\n",
       "    }\n",
       "\n",
       "    .dataframe thead th {\n",
       "        text-align: right;\n",
       "    }\n",
       "</style>\n",
       "<table border=\"1\" class=\"dataframe\">\n",
       "  <thead>\n",
       "    <tr style=\"text-align: right;\">\n",
       "      <th></th>\n",
       "      <th>city</th>\n",
       "      <th>salary_offered</th>\n",
       "    </tr>\n",
       "  </thead>\n",
       "  <tbody>\n",
       "    <tr>\n",
       "      <th>234</th>\n",
       "      <td>London</td>\n",
       "      <td>£35,000 - £40,000 per annum</td>\n",
       "    </tr>\n",
       "    <tr>\n",
       "      <th>939</th>\n",
       "      <td>Harrogate</td>\n",
       "      <td>Salary negotiable</td>\n",
       "    </tr>\n",
       "    <tr>\n",
       "      <th>785</th>\n",
       "      <td>Leeds</td>\n",
       "      <td>Salary negotiable</td>\n",
       "    </tr>\n",
       "    <tr>\n",
       "      <th>466</th>\n",
       "      <td>London</td>\n",
       "      <td>Competitive salary</td>\n",
       "    </tr>\n",
       "    <tr>\n",
       "      <th>631</th>\n",
       "      <td>Evesham</td>\n",
       "      <td>£30,000 - £31,500 per annum</td>\n",
       "    </tr>\n",
       "  </tbody>\n",
       "</table>\n",
       "</div>"
      ],
      "text/plain": [
       "          city                 salary_offered\n",
       "234     London   £35,000 - £40,000 per annum \n",
       "939  Harrogate             Salary negotiable \n",
       "785      Leeds             Salary negotiable \n",
       "466     London            Competitive salary \n",
       "631    Evesham   £30,000 - £31,500 per annum "
      ]
     },
     "execution_count": 20,
     "metadata": {},
     "output_type": "execute_result"
    }
   ],
   "source": [
    "df_cities.sample(5)"
   ]
  },
  {
   "cell_type": "markdown",
   "metadata": {},
   "source": [
    "example: when you have a column with numerical values like salaries but wrote it in diferents ways like: '£35,000 - £40,000 per annum', '£9.00 - £10.00 per hour', '£18,000 per annum, inc benefits', '£7.50 per hour'."
   ]
  },
  {
   "cell_type": "code",
   "execution_count": 21,
   "metadata": {},
   "outputs": [
    {
     "data": {
      "text/html": [
       "<div>\n",
       "<style scoped>\n",
       "    .dataframe tbody tr th:only-of-type {\n",
       "        vertical-align: middle;\n",
       "    }\n",
       "\n",
       "    .dataframe tbody tr th {\n",
       "        vertical-align: top;\n",
       "    }\n",
       "\n",
       "    .dataframe thead th {\n",
       "        text-align: right;\n",
       "    }\n",
       "</style>\n",
       "<table border=\"1\" class=\"dataframe\">\n",
       "  <thead>\n",
       "    <tr style=\"text-align: right;\">\n",
       "      <th></th>\n",
       "      <th>0</th>\n",
       "      <th>1</th>\n",
       "    </tr>\n",
       "  </thead>\n",
       "  <tbody>\n",
       "    <tr>\n",
       "      <th>0</th>\n",
       "      <td>NaN</td>\n",
       "      <td>NaN</td>\n",
       "    </tr>\n",
       "    <tr>\n",
       "      <th>1</th>\n",
       "      <td>20000.0</td>\n",
       "      <td>20000.0</td>\n",
       "    </tr>\n",
       "    <tr>\n",
       "      <th>2</th>\n",
       "      <td>NaN</td>\n",
       "      <td>NaN</td>\n",
       "    </tr>\n",
       "    <tr>\n",
       "      <th>3</th>\n",
       "      <td>16000.0</td>\n",
       "      <td>16000.0</td>\n",
       "    </tr>\n",
       "    <tr>\n",
       "      <th>4</th>\n",
       "      <td>41000.0</td>\n",
       "      <td>41000.0</td>\n",
       "    </tr>\n",
       "  </tbody>\n",
       "</table>\n",
       "</div>"
      ],
      "text/plain": [
       "         0        1\n",
       "0      NaN      NaN\n",
       "1  20000.0  20000.0\n",
       "2      NaN      NaN\n",
       "3  16000.0  16000.0\n",
       "4  41000.0  41000.0"
      ]
     },
     "execution_count": 21,
     "metadata": {},
     "output_type": "execute_result"
    }
   ],
   "source": [
    "s = df_cities['salary_offered']\n",
    "list_with_range_sannum = s.str.extract(r'£([0-9]+,[0-9]+)\\s-\\s£([0-9]+,[0-9]+)\\s\\w+\\sannum')\n",
    "list_with_range_sannum[0] = list_with_range_sannum[0].str.replace(',', '')\n",
    "list_with_range_sannum[1] = list_with_range_sannum[1].str.replace(',', '')\n",
    "def mean(row):\n",
    "    \"\"\"\"this funcion resive a df and return the mean over the values in the column 1 and column 2 by each row\"\"\"\n",
    "    return (int(row[0]) + int(row[1]))//2\n",
    "list_with_range_sannum = list_with_range_sannum.apply(lambda x: mean(x) if(np.all(pd.notnull(x[1]))) else x, axis = 1)\n",
    "list_with_range_sannum.head()\n",
    "#  Salaries with range and per annum"
   ]
  },
  {
   "cell_type": "code",
   "execution_count": 22,
   "metadata": {},
   "outputs": [
    {
     "data": {
      "text/html": [
       "<div>\n",
       "<style scoped>\n",
       "    .dataframe tbody tr th:only-of-type {\n",
       "        vertical-align: middle;\n",
       "    }\n",
       "\n",
       "    .dataframe tbody tr th {\n",
       "        vertical-align: top;\n",
       "    }\n",
       "\n",
       "    .dataframe thead th {\n",
       "        text-align: right;\n",
       "    }\n",
       "</style>\n",
       "<table border=\"1\" class=\"dataframe\">\n",
       "  <thead>\n",
       "    <tr style=\"text-align: right;\">\n",
       "      <th></th>\n",
       "      <th>0</th>\n",
       "    </tr>\n",
       "  </thead>\n",
       "  <tbody>\n",
       "    <tr>\n",
       "      <th>0</th>\n",
       "      <td>18323</td>\n",
       "    </tr>\n",
       "    <tr>\n",
       "      <th>1</th>\n",
       "      <td>22000</td>\n",
       "    </tr>\n",
       "    <tr>\n",
       "      <th>2</th>\n",
       "      <td>NaN</td>\n",
       "    </tr>\n",
       "    <tr>\n",
       "      <th>3</th>\n",
       "      <td>17000</td>\n",
       "    </tr>\n",
       "    <tr>\n",
       "      <th>4</th>\n",
       "      <td>45000</td>\n",
       "    </tr>\n",
       "  </tbody>\n",
       "</table>\n",
       "</div>"
      ],
      "text/plain": [
       "       0\n",
       "0  18323\n",
       "1  22000\n",
       "2    NaN\n",
       "3  17000\n",
       "4  45000"
      ]
     },
     "execution_count": 22,
     "metadata": {},
     "output_type": "execute_result"
    }
   ],
   "source": [
    "list_with_sannum = s.str.extract(r'£([0-9]+,[0-9]+)\\s\\w+\\sannum')\n",
    "list_with_sannum[0] = list_with_sannum[0].str.replace(',', '')\n",
    "list_with_sannum.head()\n",
    "# Salaries per annum"
   ]
  },
  {
   "cell_type": "code",
   "execution_count": 37,
   "metadata": {},
   "outputs": [
    {
     "data": {
      "text/html": [
       "<div>\n",
       "<style scoped>\n",
       "    .dataframe tbody tr th:only-of-type {\n",
       "        vertical-align: middle;\n",
       "    }\n",
       "\n",
       "    .dataframe tbody tr th {\n",
       "        vertical-align: top;\n",
       "    }\n",
       "\n",
       "    .dataframe thead th {\n",
       "        text-align: right;\n",
       "    }\n",
       "</style>\n",
       "<table border=\"1\" class=\"dataframe\">\n",
       "  <thead>\n",
       "    <tr style=\"text-align: right;\">\n",
       "      <th></th>\n",
       "      <th>0</th>\n",
       "      <th>1</th>\n",
       "    </tr>\n",
       "  </thead>\n",
       "  <tbody>\n",
       "    <tr>\n",
       "      <th>575</th>\n",
       "      <td>15943.2</td>\n",
       "      <td>15943.2</td>\n",
       "    </tr>\n",
       "    <tr>\n",
       "      <th>401</th>\n",
       "      <td>19760.0</td>\n",
       "      <td>19760.0</td>\n",
       "    </tr>\n",
       "    <tr>\n",
       "      <th>944</th>\n",
       "      <td>NaN</td>\n",
       "      <td>NaN</td>\n",
       "    </tr>\n",
       "    <tr>\n",
       "      <th>862</th>\n",
       "      <td>NaN</td>\n",
       "      <td>NaN</td>\n",
       "    </tr>\n",
       "    <tr>\n",
       "      <th>925</th>\n",
       "      <td>NaN</td>\n",
       "      <td>NaN</td>\n",
       "    </tr>\n",
       "  </tbody>\n",
       "</table>\n",
       "</div>"
      ],
      "text/plain": [
       "           0        1\n",
       "575  15943.2  15943.2\n",
       "401  19760.0  19760.0\n",
       "944      NaN      NaN\n",
       "862      NaN      NaN\n",
       "925      NaN      NaN"
      ]
     },
     "execution_count": 37,
     "metadata": {},
     "output_type": "execute_result"
    }
   ],
   "source": [
    "list_with_hour = s.str.extract(r'£([0-9]+\\.[0-9]+)\\s-\\s£([0-9]+\\.[0-9]+)\\s\\w+\\shour')\n",
    "def mean2(row):\n",
    "    aux = (float(row[0]) + float(row[1]))/2\n",
    "    aux2 = aux*2080\n",
    "    return aux2\n",
    "list_with_range_hour = list_with_hour.apply(lambda x: mean2(x) if(np.all(pd.notnull(x[1]))) else x, axis = 1)\n",
    "list_with_range_hour.sample(5)\n",
    "# Salaries with range per hour"
   ]
  },
  {
   "cell_type": "code",
   "execution_count": 40,
   "metadata": {},
   "outputs": [
    {
     "data": {
      "text/html": [
       "<div>\n",
       "<style scoped>\n",
       "    .dataframe tbody tr th:only-of-type {\n",
       "        vertical-align: middle;\n",
       "    }\n",
       "\n",
       "    .dataframe tbody tr th {\n",
       "        vertical-align: top;\n",
       "    }\n",
       "\n",
       "    .dataframe thead th {\n",
       "        text-align: right;\n",
       "    }\n",
       "</style>\n",
       "<table border=\"1\" class=\"dataframe\">\n",
       "  <thead>\n",
       "    <tr style=\"text-align: right;\">\n",
       "      <th></th>\n",
       "      <th>0</th>\n",
       "    </tr>\n",
       "  </thead>\n",
       "  <tbody>\n",
       "    <tr>\n",
       "      <th>175</th>\n",
       "      <td>15600.0</td>\n",
       "    </tr>\n",
       "    <tr>\n",
       "      <th>419</th>\n",
       "      <td>NaN</td>\n",
       "    </tr>\n",
       "    <tr>\n",
       "      <th>72</th>\n",
       "      <td>NaN</td>\n",
       "    </tr>\n",
       "    <tr>\n",
       "      <th>958</th>\n",
       "      <td>47881.6</td>\n",
       "    </tr>\n",
       "    <tr>\n",
       "      <th>667</th>\n",
       "      <td>NaN</td>\n",
       "    </tr>\n",
       "  </tbody>\n",
       "</table>\n",
       "</div>"
      ],
      "text/plain": [
       "           0\n",
       "175  15600.0\n",
       "419      NaN\n",
       "72       NaN\n",
       "958  47881.6\n",
       "667      NaN"
      ]
     },
     "execution_count": 40,
     "metadata": {},
     "output_type": "execute_result"
    }
   ],
   "source": [
    "list_with_hour_2 = s.str.extract(r'£([0-9]+\\.[0-9]+)\\s\\w+\\shour')\n",
    "def to_sannum(row):\n",
    "    aux = float(row[0])*2080\n",
    "    return aux\n",
    "list_with_hour_2 = list_with_hour_2.apply(lambda x: to_sannum(x) if(np.all(pd.notnull(x[0]))) else x, axis = 1)\n",
    "list_with_hour_2.sample(5)"
   ]
  },
  {
   "cell_type": "markdown",
   "metadata": {},
   "source": [
    "mix all "
   ]
  },
  {
   "cell_type": "code",
   "execution_count": 41,
   "metadata": {},
   "outputs": [
    {
     "data": {
      "text/plain": [
       "<bound method NDFrame.head of           0\n",
       "0     18323\n",
       "1     20000\n",
       "2       NaN\n",
       "3     16000\n",
       "4     41000\n",
       "...     ...\n",
       "996   47500\n",
       "997   34000\n",
       "998   19500\n",
       "999   75000\n",
       "1000  30000\n",
       "\n",
       "[1001 rows x 1 columns]>"
      ]
     },
     "execution_count": 41,
     "metadata": {},
     "output_type": "execute_result"
    }
   ],
   "source": [
    "salary = list_with_range_sannum[0]\n",
    "salary = pd.DataFrame(data=salary)\n",
    "salary[1]= list_with_sannum[0]\n",
    "salary2 = salary.apply(lambda x: x[1] if(np.all(pd.isnull(x[0]))) else x[0], axis = 1)\n",
    "salary2 = pd.DataFrame(data=salary2)\n",
    "salary2[1]= list_with_range_hour[0]\n",
    "salary3 = salary2.apply(lambda x: x[1] if(np.all(pd.isnull(x[0]))) else x[0], axis = 1)\n",
    "salary3 = pd.DataFrame(data=salary3)\n",
    "salary3[1]= list_with_hour_2[0]\n",
    "salary4 = salary3.apply(lambda x: x[1] if(np.all(pd.isnull(x[0]))) else x[0], axis = 1)\n",
    "salary4 = pd.DataFrame(data=salary4)\n",
    "salary4.head"
   ]
  },
  {
   "cell_type": "markdown",
   "metadata": {},
   "source": [
    "### Group by"
   ]
  },
  {
   "cell_type": "code",
   "execution_count": null,
   "metadata": {},
   "outputs": [],
   "source": [
    "df_name.groupby('column1')\n",
    "#displays a table where column 1 is a column of index and its values ​​change to indexes\n",
    "df_name.groupby('column1').media()\n",
    "df_name.groupby('column1').mean()\n",
    "df_name = df_name.groupby(['city']).median(numeric_only=True)"
   ]
  },
  {
   "cell_type": "code",
   "execution_count": null,
   "metadata": {},
   "outputs": [],
   "source": [
    "# group by multiple elements\n",
    "df_name.groupby('column1')['column2']\n",
    "df_name.groupby('column1')['column2'].count()\n",
    "df_name.groupby('column1')['column2'].max()\n",
    "df_name.groupby('column1')['column2'].min()\n",
    "df_name.groupby(['column1','column2'])\n",
    "df_name.groupby(['column1','column2'])['column3'].mean()"
   ]
  },
  {
   "cell_type": "code",
   "execution_count": null,
   "metadata": {},
   "outputs": [],
   "source": [
    "df_name.groupby(['column1','column2'])['column3'].mean().to_frame()\n",
    "# conver a grupby to a data frame\n",
    "df_name.groupby(['column1','column2'])['column3'].aggregate(['min',np.mean,max])\n",
    "dict_agg={'column3':[min,max]}, 'column4':[np.mean, my_fun]\n",
    "df_name.groupby(['column1','column2']).aggregate(dict_agg)\n",
    "df_name-groupby('column1')[['column2']].describe()\n",
    "df_name-groupby('column1')[['column2']].apply(my_fun)\n",
    "# . apply only one funcion and aggregate for many funcions\n",
    "# apply funcions \n",
    "# more information in:\n",
    "r'https://pandas.pydata.org/docs/reference/api/pandas.DataFrame.groupby.html?highlight=groupby#pandas.DataFrame.groupby'\n",
    "r'https://platzi.com/clases/1794-pandas/27898-aggregation-y-groupby/'"
   ]
  },
  {
   "cell_type": "code",
   "execution_count": null,
   "metadata": {},
   "outputs": [],
   "source": [
    "# apply filter\n",
    "def f_filter(x):\n",
    " return np.mean(x[column2])>4\n",
    "df_name.groupby('column1').filter(f_filter)\n",
    "#more information in:\n",
    "r'https://pandas.pydata.org/docs/reference/api/pandas.core.groupby.DataFrameGroupBy.filter.html?highlight=filter#pandas.core.groupby.DataFrameGroupBy.filter'\n",
    "r'https://pandas.pydata.org/docs/reference/api/pandas.DataFrame.filter.html?highlight=filter#pandas.DataFrame.filter'"
   ]
  },
  {
   "cell_type": "markdown",
   "metadata": {},
   "source": [
    "### sort"
   ]
  },
  {
   "cell_type": "code",
   "execution_count": null,
   "metadata": {},
   "outputs": [],
   "source": [
    "df_name = df_name.groupby(['column']).count()\n",
    "df_name = df_name.sort_values(by=['column'], ascending=False)\n",
    "df_name.sort_idex()\n",
    "df_name.sort_values(ascending=False)"
   ]
  },
  {
   "cell_type": "markdown",
   "metadata": {},
   "source": [
    "### Apply functions over Time series type columns"
   ]
  },
  {
   "cell_type": "code",
   "execution_count": null,
   "metadata": {},
   "outputs": [],
   "source": [
    "df1-df2\n",
    "# display the diferneces betwent values of df1 and df2 dipendiong of the index \n",
    "# if no not have the same index displays null\n",
    "df_name.diff()\n",
    "#displays the diverences betwen index=time\n",
    "df_name.diff().mean()\n",
    "#by default the first element is null because do not have other element to compare\n",
    "df_name.fillna({'column1':23,'column2':23})\n",
    "# for that reason we should introduce its values with funcion fillna\n",
    "df_name.cumsum()\n",
    "#return cumulative sum over a DataFrame\n",
    "#more information in:\n",
    "r'https://pandas.pydata.org/docs/reference/api/pandas.DataFrame.cumsum.html?highlight=cumsum#pandas.DataFrame.cumsum'"
   ]
  },
  {
   "cell_type": "code",
   "execution_count": null,
   "metadata": {},
   "outputs": [],
   "source": [
    "df_name.resample('7D').mean\n",
    "df_name.resample('W-sun').sum(min_count=1)\n",
    "df_name.resample('W-sun').sum()\n",
    "df_name.resample('M').count()\n",
    "# displays information in timeslots\n",
    "#more information in:\n",
    "r'https://pandas.pydata.org/docs/reference/api/pandas.DataFrame.resample.html?highlight=resample#pandas.DataFrame.resample'"
   ]
  },
  {
   "cell_type": "code",
   "execution_count": null,
   "metadata": {},
   "outputs": [],
   "source": [
    "df_name.groupby(pd.Grouper(key='timecolumn', freq='M'))[['column1']].mean()\n",
    "# Grouper is a very usefull funcion that work it a column wuere values are type time\n",
    "df_name.groupby(pd.Grouper(key='timecolumn', freq='1D'))[['column1']].mean()\n",
    "#more information in:\n",
    "r'https://pandas.pydata.org/docs/reference/api/pandas.Grouper.html?highlight=grouper#pandas.Grouper'"
   ]
  },
  {
   "cell_type": "code",
   "execution_count": null,
   "metadata": {},
   "outputs": [],
   "source": [
    "df_name['timecolumn'].rolling('2s')\n",
    "# rolling create a windows in columns with values type time \n",
    "# space betwen windows are two seconds in this case\n",
    "# rolling is veri usefull to apply funcions and plot\n",
    "df_name['timecolumn'].rolling(window=14).apply(lambda x: np.std(x)).plot()\n",
    "#more information in:\n",
    "r'https://pandas.pydata.org/docs/reference/api/pandas.DataFrame.rolling.html?highlight=rolling#pandas.DataFrame.rolling'\n",
    "r'https://platzi.com/clases/1794-pandas/27894-series-de-tiempo-variables-nulas/'"
   ]
  },
  {
   "cell_type": "markdown",
   "metadata": {},
   "source": [
    "### Work with duplicate data"
   ]
  },
  {
   "cell_type": "code",
   "execution_count": null,
   "metadata": {},
   "outputs": [],
   "source": [
    "df.duplicated()\n",
    "#displays all duplicate values\n",
    "df.duplicated(keep='first')\n",
    "# displays as a true only first councidence\n",
    "df.duplicated(keep='last')\n",
    "# displays as a true only last councidence\n",
    "df[~ df.duplicated()]\n",
    "# filter and displays all elementes that not are duplicates\n",
    "df.duplicated(keep=False)\n",
    "df[df.duplicated(keep=False)]\n",
    "#displays duplicate elements\n",
    "df.drop_duplicates()\n",
    "df.drop_duplicates(['column1'],keep='last')\n",
    "#more information in:\n",
    "r'https://pandas.pydata.org/docs/reference/api/pandas.DataFrame.duplicated.html?highlight=duplicate'"
   ]
  },
  {
   "cell_type": "markdown",
   "metadata": {},
   "source": [
    "### Work with null data"
   ]
  },
  {
   "cell_type": "code",
   "execution_count": null,
   "metadata": {},
   "outputs": [],
   "source": [
    "df_name.isnull()\n",
    "df_name.isna()\n",
    "df_name.isnull().sum()\n",
    "# displays all elemnents null by column\n",
    "df_name.notnull().sum(axis=1)\n",
    "# displays all elemnents null by idex\n",
    "df_name.size-df.isnull().sum().sum()\n",
    "#all elemnts null in the data frame\n",
    "df_name[df_name['a'].notnull()]\n",
    "#filter by null elemnts"
   ]
  },
  {
   "cell_type": "code",
   "execution_count": null,
   "metadata": {},
   "outputs": [],
   "source": [
    "df.dropna()\n",
    "df[['a']].dropna()\n",
    "df.fillna(0)\n",
    "# replace all null elements with 0\n",
    "df_name.fillna(method=\"ffill\")\n",
    "#replace all null elements with following value\n",
    "df_name.fillna(method=\"bfill\")\n",
    "#replace all null elements with previus value\n",
    "fill = pd.Series([100, 101, 102])\n",
    "df_name['column1'] = df_name['column1'].fillna(fill)\n",
    "#replace all null elements with serie(fill)\n",
    "df_name.fillna(df.median())\n",
    "#replace all null elements with media\n",
    "df_New_name = pd.concat([df_name[['column1']], df_name[['column1']].interpolate()],axis=1)\n",
    "df_New_name.columns = ['d_antes','d_interpolado']\n",
    "#replace all null elements with a interpolation\n",
    "#more infroamtion \n",
    "r'https://pandas.pydata.org/docs/search.html?q=null'"
   ]
  },
  {
   "cell_type": "code",
   "execution_count": null,
   "metadata": {},
   "outputs": [],
   "source": [
    "df_name.notnull().apply(pd.Series.value_counts)\n",
    "(df_name !=0).apply(pd.Series.value_counts)\n",
    "filtro = ((df_name !=0) & (df_name.notnull()))\n",
    "filtro.all(axis=1).values_counts()\n",
    "mask = filtro['column1']\n",
    "df_name = df_name[mask]"
   ]
  },
  {
   "cell_type": "markdown",
   "metadata": {},
   "source": [
    "Function to split a dataset in three datasets\n",
    "1. dataset columns with null data\n",
    "2. dataset with with columns with not null data\n",
    "3. dataset with columns with null and not null data"
   ]
  },
  {
   "cell_type": "code",
   "execution_count": 43,
   "metadata": {},
   "outputs": [],
   "source": [
    "def split_dataset(df):\n",
    "    rows_df = df.shape[0]\n",
    "    columns_with_null_data = []\n",
    "    columns_with_not_nul_data = []\n",
    "    other_columns = []\n",
    "    for column in df.columns:\n",
    "        if df[column].isnull().sum() == rows_df:\n",
    "            columns_with_null_data.append(column)\n",
    "        elif df[column].isnull().sum() == 0:\n",
    "            columns_with_not_null_data.append(column)\n",
    "        else:\n",
    "            other_columns.append(column)\n",
    "    return columns_with_null_data, columns_with_not_null_data, other_columns"
   ]
  },
  {
   "cell_type": "code",
   "execution_count": 44,
   "metadata": {},
   "outputs": [],
   "source": [
    "def diplay_groups(columns_with_null_data, columns_with_not_null_data, other_columns):\n",
    "    print(f'The number of columns with null data in all its rows is: {len(columns_with_null_data)}')\n",
    "    print(f'The number of columns with not null data in all its rows is: {len(columns_with_not_null_data)}')\n",
    "    print(f'The number of columns with null data and with not null data is: {len(other_columns)}')"
   ]
  },
  {
   "cell_type": "code",
   "execution_count": null,
   "metadata": {},
   "outputs": [],
   "source": [
    "columns_with_null_data, columns_with_not_null_data, other_columns = split_dataset(df_name)\n",
    "diplay_groups(columns_with_null_data, columns_with_not_null_data, other_columns)"
   ]
  },
  {
   "cell_type": "markdown",
   "metadata": {},
   "source": [
    "Funcion to check if two lists have the same elements (columns)"
   ]
  },
  {
   "cell_type": "code",
   "execution_count": 46,
   "metadata": {},
   "outputs": [],
   "source": [
    "def same_columns(list_columns1, list_columns2):\n",
    "    same_list = []\n",
    "    for element1 in list_columns1:\n",
    "        for element2 in list_columns2:\n",
    "            if element1 == element2:\n",
    "                same_list.append(element2)\n",
    "    return same_list"
   ]
  },
  {
   "cell_type": "code",
   "execution_count": null,
   "metadata": {},
   "outputs": [],
   "source": [
    "same_list = same_columns(list_columns1, list_columns2)"
   ]
  },
  {
   "cell_type": "markdown",
   "metadata": {},
   "source": [
    "Funcion to double check if all columns in a diferents diferents columns list are the same"
   ]
  },
  {
   "cell_type": "code",
   "execution_count": null,
   "metadata": {},
   "outputs": [],
   "source": [
    "def double_check(same_list, columns_with_null_data1, columns_with_null_data2,columns_with_nulldata3):\n",
    "    A = same_columns(same_list, columns_with_null_data1)\n",
    "    B = same_columns(same_list, columns_with_null_data2)\n",
    "    C = same_columns(same_list, columns_with_null_data3)\n",
    "    if len(A)==len(B) and len(B)==len(C):\n",
    "        print('This have null data in all its rows. You could drop it.')"
   ]
  }
 ],
 "metadata": {
  "kernelspec": {
   "display_name": "Python 3",
   "language": "python",
   "name": "python3"
  },
  "language_info": {
   "codemirror_mode": {
    "name": "ipython",
    "version": 3
   },
   "file_extension": ".py",
   "mimetype": "text/x-python",
   "name": "python",
   "nbconvert_exporter": "python",
   "pygments_lexer": "ipython3",
   "version": "3.8.5"
  }
 },
 "nbformat": 4,
 "nbformat_minor": 4
}

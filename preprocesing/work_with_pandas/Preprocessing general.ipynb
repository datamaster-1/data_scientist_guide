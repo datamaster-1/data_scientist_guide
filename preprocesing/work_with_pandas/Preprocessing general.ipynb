{
 "cells": [
  {
   "cell_type": "markdown",
   "metadata": {},
   "source": [
    "# Preprocessing general\n",
    "## In this notebook there are somo useful funcions to work with datasets with pandas making transformation over the dataset and preprocessing some columns or rows to work with."
   ]
  },
  {
   "cell_type": "code",
   "execution_count": null,
   "metadata": {},
   "outputs": [],
   "source": [
    "import pandas as pd"
   ]
  },
  {
   "cell_type": "markdown",
   "metadata": {},
   "source": [
    "my recommendation always create a copy of the original dataset to do the changes"
   ]
  },
  {
   "cell_type": "code",
   "execution_count": null,
   "metadata": {},
   "outputs": [],
   "source": [
    "df_copy = df_name.copy()"
   ]
  },
  {
   "cell_type": "markdown",
   "metadata": {},
   "source": [
    "### Change data types"
   ]
  },
  {
   "cell_type": "code",
   "execution_count": null,
   "metadata": {},
   "outputs": [],
   "source": [
    "df_name_2 = df_name_1.astype({'column1':'type'})\n",
    "# dttype = float64, object, datetime64[ns], int64\n",
    "#change the data type in a specific column1"
   ]
  },
  {
   "cell_type": "code",
   "execution_count": null,
   "metadata": {},
   "outputs": [],
   "source": [
    "df_name[['column1','column2']] = df_name[['column1','column2']].astype('type')\n",
    "# change the data type in two specific columns"
   ]
  },
  {
   "cell_type": "code",
   "execution_count": null,
   "metadata": {},
   "outputs": [],
   "source": [
    "df_name['date_column'] = pd.to_datetime(df_name['date_column'], infer_datetime_format=True)\n",
    "# transform the data type to date time in a specific column, the format is infered"
   ]
  },
  {
   "cell_type": "code",
   "execution_count": null,
   "metadata": {},
   "outputs": [],
   "source": [
    "df_name['date_column'] = pd.to_datatime(df_name['column1'],errors='coerce',format='%m/%d/%Y %H:%M:%S %p')\n",
    "# transform the data type to date time in a specific column, the format is seted and erros coerce"
   ]
  },
  {
   "cell_type": "markdown",
   "metadata": {},
   "source": [
    "more information in:\n",
    "\n",
    "\n",
    "https://pandas.pydata.org/docs/reference/api/pandas.to_datetime.html?highlight=to_datetime#pandas.to_datetime"
   ]
  },
  {
   "cell_type": "markdown",
   "metadata": {},
   "source": [
    "### Creation of new columns"
   ]
  },
  {
   "cell_type": "code",
   "execution_count": null,
   "metadata": {},
   "outputs": [],
   "source": [
    "df_name['new_column1'] = data\n",
    "df_name[['new_column1','new_column2']] = data"
   ]
  },
  {
   "cell_type": "markdown",
   "metadata": {},
   "source": [
    "### Rename columns"
   ]
  },
  {
   "cell_type": "code",
   "execution_count": null,
   "metadata": {},
   "outputs": [],
   "source": [
    "df_name.rename(columns={'column1':'new_name1'})\n",
    "df_name.rename(columns={'column1':'new_name1'}, inplace=True)\n",
    "# apply changes in the original dataset"
   ]
  },
  {
   "cell_type": "markdown",
   "metadata": {},
   "source": [
    "### Delete data"
   ]
  },
  {
   "cell_type": "code",
   "execution_count": null,
   "metadata": {},
   "outputs": [],
   "source": [
    "df_name.drop(['column1', 'column2'], axis=1)\n",
    "df_name.drop(['index1', 'index2'], axis=0)\n",
    "df_name.drop(columns=['column1', 'column2'])\n",
    "df_name.drop(index=['index1', 'index2'])\n",
    "df.drop([0, 1])\n",
    "# drop index 0 and 1\n",
    "# you could combine somo of this\n",
    "df.drop(index='index1', columns='column1')\n",
    "df.drop(index='indes1', level=1)"
   ]
  },
  {
   "cell_type": "markdown",
   "metadata": {},
   "source": [
    "Delete specific columns with a function."
   ]
  },
  {
   "cell_type": "code",
   "execution_count": null,
   "metadata": {},
   "outputs": [],
   "source": [
    "def drop_useless_columns(df, drop_list):\n",
    "    \"\"\"Delete specific columns\"\"\"\n",
    "    for column in drop_list:\n",
    "        df.drop([column], axis=1, inplace=True)\n",
    "        \n",
    "drop_list = ['column1', 'column2', 'column3']\n",
    "drop_useless_columns(df_name, drop_list)"
   ]
  },
  {
   "cell_type": "markdown",
   "metadata": {},
   "source": [
    "### Set values"
   ]
  },
  {
   "cell_type": "code",
   "execution_count": null,
   "metadata": {},
   "outputs": [],
   "source": [
    "df_name.loc[['index1', 'index2'], ['column1']] = 50\n",
    "# set value 50 in elements in column1 index 1 and 2\n",
    "df_name.loc['index1'] = 10\n",
    "#set value 10 in all elementes in index1\n",
    "df_name.loc[:, 'column1'] = 30\n",
    "#set value 30 in all elements in column1\n",
    "df_name.loc[df_name['column1'] > 35] = 0\n",
    "# set value 0 in all elements in column1 that are greater tham 3"
   ]
  },
  {
   "cell_type": "code",
   "execution_count": null,
   "metadata": {},
   "outputs": [],
   "source": [
    "#similar to loc bot use at if you only need to  set a single value \n",
    "#in a DataFrame \n",
    "df_name.at[index1, 'column1'] = 10"
   ]
  },
  {
   "cell_type": "code",
   "execution_count": null,
   "metadata": {},
   "outputs": [],
   "source": [
    "#similar to iloc bot use at if you only need to  set a single value \n",
    "#in a DataFrame \n",
    "df_name.iat[1, 2] = 10"
   ]
  },
  {
   "cell_type": "markdown",
   "metadata": {},
   "source": [
    "### Set index"
   ]
  },
  {
   "cell_type": "code",
   "execution_count": null,
   "metadata": {},
   "outputs": [],
   "source": [
    "df_name.set_index('index1')\n",
    "df_name.set_index(['index1', 'index2'])\n",
    "#Create a MultiIndex using an Index and a column\n",
    "df_name.set_index([pd.Index([1, 2, 3, 4]), 'column1'])\n",
    "# create a index with a column1 in index 1,2,3,4\n",
    "#more infromarion in:\n",
    "r'https://pandas.pydata.org/docs/reference/api/pandas.DataFrame.set_index.html?highlight=set_index#pandas.DataFrame.set_index'"
   ]
  },
  {
   "cell_type": "code",
   "execution_count": null,
   "metadata": {},
   "outputs": [],
   "source": [
    "df_name.reset_index()\n",
    "# reser all index \n",
    "#multipleindex\n",
    "df_name.reset_index(level='index1.1')\n",
    "# reser all index1.1\n",
    "#more information in:\n",
    "r'https://pandas.pydata.org/docs/reference/api/pandas.DataFrame.reset_index.html#pandas.DataFrame.reset_index'"
   ]
  },
  {
   "cell_type": "code",
   "execution_count": null,
   "metadata": {},
   "outputs": [],
   "source": [
    "#Conform DataFrame to new index with optional filling logic\n",
    "df_name.reindex(new_index)\n",
    "df.reindex(new_index, fill_value=0)\n",
    "# nan as 0\n",
    "df.reindex(new_index, fill_value='missing')\n",
    "# nan as missing\n",
    "df.reindex(columns=['column1', 'column2'])\n",
    "df.reindex(['column1', 'column2'], axis=\"columns\")\n",
    "#more infromation in:\n",
    "r'https://pandas.pydata.org/docs/reference/api/pandas.DataFrame.reindex.html#pandas.DataFrame.reindex'"
   ]
  }
 ],
 "metadata": {
  "kernelspec": {
   "display_name": "Python 3",
   "language": "python",
   "name": "python3"
  },
  "language_info": {
   "codemirror_mode": {
    "name": "ipython",
    "version": 3
   },
   "file_extension": ".py",
   "mimetype": "text/x-python",
   "name": "python",
   "nbconvert_exporter": "python",
   "pygments_lexer": "ipython3",
   "version": "3.8.5"
  }
 },
 "nbformat": 4,
 "nbformat_minor": 4
}
